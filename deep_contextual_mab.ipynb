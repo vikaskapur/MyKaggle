{
  "nbformat": 4,
  "nbformat_minor": 0,
  "metadata": {
    "colab": {
      "provenance": [],
      "include_colab_link": true
    },
    "kernelspec": {
      "name": "python3",
      "display_name": "Python 3"
    }
  },
  "cells": [
    {
      "cell_type": "markdown",
      "metadata": {
        "id": "view-in-github",
        "colab_type": "text"
      },
      "source": [
        "<a href=\"https://colab.research.google.com/github/vikaskapur/MyKaggle/blob/master/deep_contextual_mab.ipynb\" target=\"_parent\"><img src=\"https://colab.research.google.com/assets/colab-badge.svg\" alt=\"Open In Colab\"/></a>"
      ]
    },
    {
      "cell_type": "code",
      "metadata": {
        "id": "3RK1s_ItUWJX"
      },
      "source": [
        "import numpy as np\n",
        "import torch\n",
        "import torch.nn as nn\n",
        "import torch.optim as optim\n",
        "import torch.nn.functional as F\n",
        "\n",
        "import matplotlib.pyplot as plt\n",
        "%matplotlib inline"
      ],
      "execution_count": null,
      "outputs": []
    },
    {
      "cell_type": "code",
      "metadata": {
        "id": "RSX4XVNXUi5L"
      },
      "source": [
        "def running_mean(data,window=50):\n",
        "    c = data.shape[0] - window\n",
        "    smoothened = np.zeros(c)\n",
        "    conv = np.ones(window)\n",
        "    for i in range(c):\n",
        "        smoothened[i] = (data[i:i+window] @ conv)/window\n",
        "    return smoothened"
      ],
      "execution_count": null,
      "outputs": []
    },
    {
      "cell_type": "code",
      "metadata": {
        "id": "erbEI2YIWFgZ"
      },
      "source": [
        "def one_hot_encode(pos, dim):\n",
        "  vec = np.zeros(dim)\n",
        "  vec[pos] = 1\n",
        "  return vec"
      ],
      "execution_count": null,
      "outputs": []
    },
    {
      "cell_type": "code",
      "metadata": {
        "id": "gfhw6KSuW8Im",
        "colab": {
          "base_uri": "https://localhost:8080/",
          "height": 84
        },
        "outputId": "5d9798fa-9b76-4f6f-80d9-c7e7233595a4"
      },
      "source": [
        "print(one_hot_encode(0,4))\n",
        "print(one_hot_encode(1,4))\n",
        "print(one_hot_encode(2,4))\n",
        "print(one_hot_encode(3,4))"
      ],
      "execution_count": null,
      "outputs": [
        {
          "output_type": "stream",
          "text": [
            "[1. 0. 0. 0.]\n",
            "[0. 1. 0. 0.]\n",
            "[0. 0. 1. 0.]\n",
            "[0. 0. 0. 1.]\n"
          ],
          "name": "stdout"
        }
      ]
    },
    {
      "cell_type": "code",
      "metadata": {
        "id": "fjVqoO4MXG11"
      },
      "source": [
        "def softmax(data, tau=1.2):\n",
        "  softm = np.exp(data/tau) / np.sum(np.exp(data/tau))\n",
        "  return softm"
      ],
      "execution_count": null,
      "outputs": []
    },
    {
      "cell_type": "code",
      "metadata": {
        "id": "TmbNoMc3X17r",
        "colab": {
          "base_uri": "https://localhost:8080/",
          "height": 34
        },
        "outputId": "203e898c-b774-4595-dbec-26ebbbbaf8d1"
      },
      "source": [
        "print(softmax(np.array([1,2,1,1])))"
      ],
      "execution_count": null,
      "outputs": [
        {
          "output_type": "stream",
          "text": [
            "[0.18864451 0.43406647 0.18864451 0.18864451]\n"
          ],
          "name": "stdout"
        }
      ]
    },
    {
      "cell_type": "code",
      "metadata": {
        "id": "7J5kDyh7X7D1"
      },
      "source": [
        "class Environment(object):\n",
        "\n",
        "  def __init__(self, arms):\n",
        "    self.arms = arms \n",
        "    self.reward_probas = np.random.rand(arms, arms)\n",
        "    self._update_state()\n",
        "\n",
        "  def _update_state(self):\n",
        "    self.state = np.random.randint(0, self.arms)\n",
        "\n",
        "  def get_state(self):\n",
        "    return self.state \n",
        "\n",
        "  def _get_reward(self, arm):\n",
        "    state = self.get_state()\n",
        "    prob = self.reward_probas[state][arm]\n",
        "    rewards = [1 if np.random.random() < prob else 0 for _ in range(self.arms)]\n",
        "    return sum(rewards)\n",
        "\n",
        "  def choose_arm(self, arm):\n",
        "    reward = self._get_reward(arm)\n",
        "    self._update_state()\n",
        "    return reward\n"
      ],
      "execution_count": null,
      "outputs": []
    },
    {
      "cell_type": "code",
      "metadata": {
        "id": "RjUySDMdZNWm"
      },
      "source": [
        "env = Environment(arms=5)"
      ],
      "execution_count": null,
      "outputs": []
    },
    {
      "cell_type": "code",
      "metadata": {
        "id": "AzNvzow0ZREL",
        "colab": {
          "base_uri": "https://localhost:8080/",
          "height": 101
        },
        "outputId": "596b7d18-6b9f-44d1-b0c5-03cd2fa18df8"
      },
      "source": [
        "print(env.reward_probas)"
      ],
      "execution_count": null,
      "outputs": [
        {
          "output_type": "stream",
          "text": [
            "[[0.40840362 0.78948451 0.58262317 0.967559   0.39736286]\n",
            " [0.90023499 0.61026421 0.938922   0.43315839 0.33174   ]\n",
            " [0.80548122 0.15693891 0.198406   0.38975242 0.21790331]\n",
            " [0.83115212 0.6369255  0.20240554 0.28259552 0.07689023]\n",
            " [0.23428126 0.19056088 0.66087169 0.36243125 0.41522338]]\n"
          ],
          "name": "stdout"
        }
      ]
    },
    {
      "cell_type": "code",
      "metadata": {
        "id": "re_G0gT4ZSo5",
        "colab": {
          "base_uri": "https://localhost:8080/",
          "height": 34
        },
        "outputId": "406e8a3a-24a9-4381-a075-075c30589ce2"
      },
      "source": [
        "state = env.get_state()\n",
        "print(state)"
      ],
      "execution_count": null,
      "outputs": [
        {
          "output_type": "stream",
          "text": [
            "4\n"
          ],
          "name": "stdout"
        }
      ]
    },
    {
      "cell_type": "code",
      "metadata": {
        "id": "I50shstPdgPC",
        "colab": {
          "base_uri": "https://localhost:8080/",
          "height": 34
        },
        "outputId": "3ab6558a-03a7-4ff6-d26d-3ad6d193ca25"
      },
      "source": [
        "env.choose_arm(2)"
      ],
      "execution_count": null,
      "outputs": [
        {
          "output_type": "execute_result",
          "data": {
            "text/plain": [
              "2"
            ]
          },
          "metadata": {
            "tags": []
          },
          "execution_count": 23
        }
      ]
    },
    {
      "cell_type": "code",
      "metadata": {
        "id": "Ux5rRROyemuX",
        "colab": {
          "base_uri": "https://localhost:8080/",
          "height": 34
        },
        "outputId": "06c3c104-c145-40c0-b856-6d509355c755"
      },
      "source": [
        "print(env.get_state())"
      ],
      "execution_count": null,
      "outputs": [
        {
          "output_type": "stream",
          "text": [
            "2\n"
          ],
          "name": "stdout"
        }
      ]
    },
    {
      "cell_type": "code",
      "metadata": {
        "id": "N3U9pQDAerHn"
      },
      "source": [
        "n_arms = 10\n",
        "n_actions = 10\n",
        "model = nn.Sequential(\n",
        "    nn.Linear(n_arms, 100),\n",
        "    nn.ReLU(),\n",
        "    nn.Linear(100, n_actions),\n",
        "    nn.ReLU()\n",
        ")"
      ],
      "execution_count": null,
      "outputs": []
    },
    {
      "cell_type": "code",
      "metadata": {
        "id": "heNVZ_uugCFF",
        "colab": {
          "base_uri": "https://localhost:8080/",
          "height": 118
        },
        "outputId": "3c827eed-adc8-4f1f-8072-1bf26783c1ca"
      },
      "source": [
        "print(model)"
      ],
      "execution_count": null,
      "outputs": [
        {
          "output_type": "stream",
          "text": [
            "Sequential(\n",
            "  (0): Linear(in_features=10, out_features=100, bias=True)\n",
            "  (1): ReLU()\n",
            "  (2): Linear(in_features=100, out_features=10, bias=True)\n",
            "  (3): ReLU()\n",
            ")\n"
          ],
          "name": "stdout"
        }
      ]
    },
    {
      "cell_type": "code",
      "metadata": {
        "id": "Vdj0qptogDTA"
      },
      "source": [
        "def train_network(environ, net, epochs=8000, lr=1e-2):\n",
        "  optimizer = optim.Adam(net.parameters(), lr=lr)\n",
        "  criterion = nn.MSELoss()\n",
        "  rewards = []\n",
        "  losses = []\n",
        "  for e in range(1, epochs + 1):\n",
        "    state = torch.Tensor(one_hot_encode(environ.get_state(), dim=n_arms))\n",
        "    rewards_pred = net(state)\n",
        "    action_probas = softmax(rewards_pred.data.numpy().copy())\n",
        "\n",
        "    arm = np.random.choice(n_arms, p=action_probas)\n",
        "    reward = environ.choose_arm(arm)\n",
        "    rewards.append(reward)\n",
        "\n",
        "    true_rewards = rewards_pred.data.numpy().copy()\n",
        "    true_rewards[arm] = reward \n",
        "\n",
        "    loss = criterion(rewards_pred, torch.Tensor(true_rewards))\n",
        "    losses.append(loss.item())\n",
        "\n",
        "    optimizer.zero_grad()\n",
        "    loss.backward()\n",
        "    optimizer.step()\n",
        "\n",
        "  return (np.array(losses), np.array(rewards))\n",
        "\n"
      ],
      "execution_count": null,
      "outputs": []
    },
    {
      "cell_type": "code",
      "metadata": {
        "id": "PjzVr9RhjgfA",
        "colab": {
          "base_uri": "https://localhost:8080/",
          "height": 370
        },
        "outputId": "09b0075c-cf4e-48bb-c602-02d80b0d60f9"
      },
      "source": [
        "env = Environment(arms=n_arms)\n",
        "print(f\"CURRENT STATE : {env.get_state()}\")\n",
        "print(env.reward_probas)"
      ],
      "execution_count": null,
      "outputs": [
        {
          "output_type": "stream",
          "text": [
            "CURRENT STATE : 4\n",
            "[[0.83754601 0.1294537  0.81251155 0.27113647 0.64309394 0.82346569\n",
            "  0.49893184 0.65983895 0.27654883 0.92499264]\n",
            " [0.97491409 0.85521934 0.86135612 0.87643326 0.28679507 0.26809373\n",
            "  0.22064093 0.9510014  0.84835402 0.33388456]\n",
            " [0.38989501 0.91791274 0.09586717 0.68333419 0.9282401  0.24264378\n",
            "  0.27326672 0.08946298 0.88339061 0.61350482]\n",
            " [0.71638265 0.2014948  0.64489675 0.03492986 0.34281327 0.42949956\n",
            "  0.80786787 0.14387585 0.63613947 0.62647055]\n",
            " [0.44499831 0.46900423 0.4666924  0.47191988 0.84924094 0.04762401\n",
            "  0.7756191  0.50858479 0.12145664 0.95921849]\n",
            " [0.96239702 0.40133576 0.0514459  0.05820731 0.0445651  0.99137502\n",
            "  0.50334006 0.72654482 0.34570477 0.29486076]\n",
            " [0.13673244 0.39437039 0.93649872 0.03557291 0.42204239 0.62438257\n",
            "  0.39569144 0.16081449 0.54638144 0.9485394 ]\n",
            " [0.24138505 0.70453014 0.13101263 0.7230592  0.65561072 0.56011602\n",
            "  0.94812071 0.59547966 0.82856536 0.43440932]\n",
            " [0.93993234 0.54473415 0.76461106 0.02136257 0.55664383 0.88178636\n",
            "  0.35166906 0.72365436 0.56280256 0.74882806]\n",
            " [0.15934287 0.11545256 0.49422395 0.73386676 0.58878089 0.32582951\n",
            "  0.427715   0.77681007 0.54150925 0.00124822]]\n"
          ],
          "name": "stdout"
        }
      ]
    },
    {
      "cell_type": "code",
      "metadata": {
        "id": "QYzowdTDjnKf"
      },
      "source": [
        "losses, rewards = train_network(env, model)"
      ],
      "execution_count": null,
      "outputs": []
    },
    {
      "cell_type": "code",
      "metadata": {
        "id": "r0xeaDNDjw3L",
        "colab": {
          "base_uri": "https://localhost:8080/",
          "height": 282
        },
        "outputId": "3f7a5d85-54e4-443c-f5ac-3685714d7f24"
      },
      "source": [
        "plt.plot(running_mean(rewards, window=500), label=\"avg reward\")\n",
        "plt.legend()"
      ],
      "execution_count": null,
      "outputs": [
        {
          "output_type": "execute_result",
          "data": {
            "text/plain": [
              "<matplotlib.legend.Legend at 0x7fd32734a710>"
            ]
          },
          "metadata": {
            "tags": []
          },
          "execution_count": 53
        },
        {
          "output_type": "display_data",
          "data": {
            "image/png": "[encoded data removed]",
            "text/plain": [
              "<Figure size 432x288 with 1 Axes>"
            ]
          },
          "metadata": {
            "tags": [],
            "needs_background": "light"
          }
        }
      ]
    },
    {
      "cell_type": "code",
      "metadata": {
        "id": "QJQ27l4IkIIV",
        "colab": {
          "base_uri": "https://localhost:8080/",
          "height": 50
        },
        "outputId": "b8ec48f0-71c9-4dd5-d998-50ddc49fede0"
      },
      "source": [
        "state = torch.Tensor(one_hot_encode(5, dim=10))\n",
        "preds = model(state)\n",
        "print(preds)"
      ],
      "execution_count": null,
      "outputs": [
        {
          "output_type": "stream",
          "text": [
            "tensor([ 5.2588,  0.0000,  3.1236,  0.0000,  7.9822,  0.0000,  0.8561, 10.2386,\n",
            "         3.8589,  9.3666], grad_fn=<ReluBackward0>)\n"
          ],
          "name": "stdout"
        }
      ]
    },
    {
      "cell_type": "code",
      "metadata": {
        "id": "CFg6B3OclN0x"
      },
      "source": [],
      "execution_count": null,
      "outputs": []
    }
  ]
}